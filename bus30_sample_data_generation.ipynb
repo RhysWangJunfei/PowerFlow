{
  "nbformat": 4,
  "nbformat_minor": 0,
  "metadata": {
    "colab": {
      "name": "bus30_sample_data_generation.ipynb",
      "provenance": [],
      "collapsed_sections": [],
      "mount_file_id": "1vhMT5Up2wN3IzyLgZUAP5kcdZLltqJJG",
      "authorship_tag": "ABX9TyPwuIkcfO0uvIjilBuhs+sP",
      "include_colab_link": true
    },
    "kernelspec": {
      "name": "python3",
      "display_name": "Python 3"
    },
    "language_info": {
      "name": "python"
    }
  },
  "cells": [
    {
      "cell_type": "markdown",
      "metadata": {
        "id": "view-in-github",
        "colab_type": "text"
      },
      "source": [
        "<a href=\"https://colab.research.google.com/github/RhysWangJunfei/PowerFlow/blob/main/bus30_sample_data_generation.ipynb\" target=\"_parent\"><img src=\"https://colab.research.google.com/assets/colab-badge.svg\" alt=\"Open In Colab\"/></a>"
      ]
    },
    {
      "cell_type": "code",
      "metadata": {
        "id": "d9yy7nmZWy_0"
      },
      "source": [
        "import numpy as np\n",
        "import tensorflow as tf\n",
        "from tensorflow import keras\n",
        "from tensorflow.keras import layers\n",
        "from tensorflow.keras import backend as K\n",
        "from matplotlib import pyplot as plt\n",
        "import sys\n",
        "import pandas as pd\n",
        "from sklearn.neighbors import NearestNeighbors\n",
        "from scipy.stats import truncnorm\n",
        "from scipy.io import loadmat\n",
        "from tensorflow.keras.layers import LeakyReLU\n",
        "from tensorflow.keras.layers import BatchNormalization\n",
        "from tensorflow.keras.models import load_model,Sequential,Model\n",
        "import math\n",
        "import time\n",
        "from tensorflow.keras.layers import Conv1D, MaxPooling1D,Lambda,Concatenate\n",
        "import pdb; \n",
        "import scipy"
      ],
      "execution_count": 16,
      "outputs": []
    },
    {
      "cell_type": "code",
      "metadata": {
        "id": "evIDnN6bX7SA",
        "colab": {
          "base_uri": "https://localhost:8080/"
        },
        "outputId": "3711370f-db3a-4a70-ac98-f5ab0a266fe6"
      },
      "source": [
        "mat_y = loadmat('/content/drive/MyDrive/Phd/opf_gan/Y_bus30.mat')\n",
        "mat_load = loadmat('/content/drive/MyDrive/Phd/opf_gan/IEEE30_load.mat')\n",
        "mat_gen = loadmat('/content/drive/MyDrive/Phd/opf_gan/IEEE30_gen.mat')\n",
        "Y_bus = mat_y['Ybus'].toarray().astype('complex64')\n",
        "baseMVA = 100\n",
        "p_capacity_min = 0\n",
        "p_capacity_max = 3.35\n",
        "q_capacity_min = -0.95\n",
        "q_capacity_max = 4.059\n",
        "load_factor = 0.8\n",
        "case30_pload = mat_load['aa'][:,2]/baseMVA\n",
        "case30_qload = mat_load['aa'][:,3]/baseMVA\n",
        "print(case30_pload)"
      ],
      "execution_count": 17,
      "outputs": [
        {
          "output_type": "stream",
          "name": "stdout",
          "text": [
            "[0.    0.217 0.024 0.076 0.    0.    0.228 0.3   0.    0.058 0.    0.112\n",
            " 0.    0.062 0.082 0.035 0.09  0.032 0.095 0.022 0.175 0.    0.032 0.087\n",
            " 0.    0.035 0.    0.    0.024 0.106]\n"
          ]
        }
      ]
    },
    {
      "cell_type": "code",
      "metadata": {
        "colab": {
          "base_uri": "https://localhost:8080/"
        },
        "id": "PoYr71btJS8U",
        "outputId": "a390521c-ea1c-4ea5-9d82-9842921a6401"
      },
      "source": [
        "q_max = mat_gen['gen_attribute'][:,3]/baseMVA\n",
        "q_min = mat_gen['gen_attribute'][:,4]/baseMVA\n",
        "p_max = mat_gen['gen_attribute'][:,8]/baseMVA\n",
        "p_min = mat_gen['gen_attribute'][:,9]/baseMVA\n",
        "print(p_max)"
      ],
      "execution_count": 18,
      "outputs": [
        {
          "output_type": "stream",
          "name": "stdout",
          "text": [
            "[0.8  0.8  0.5  0.55 0.3  0.4 ]\n"
          ]
        }
      ]
    },
    {
      "cell_type": "code",
      "metadata": {
        "id": "vf7LcasG6zAa"
      },
      "source": [
        "def rdm_load_pq_20per(case_pload,case_qload,sample_number):\n",
        "    number_of_bus = case_pload.shape[0]\n",
        "    p_demand = np.zeros([sample_number,number_of_bus])\n",
        "    q_demand = np.zeros([sample_number,number_of_bus])\n",
        "    for i in range(0,number_of_bus):\n",
        "        pi = case_pload[i]\n",
        "        qi = case_qload[i]\n",
        "        if case_pload[i]!=0:\n",
        "          p_mw = np.random.uniform(pi*0.8,pi*1.2,sample_number)\n",
        "          q_mvar = np.random.uniform(qi*0.8,qi*1.2,sample_number)\n",
        "          p_demand[:,i] = p_mw\n",
        "          q_demand[:,i] = q_mvar\n",
        "    return p_demand,q_demand\n",
        "\n",
        "def rdm_gen_pv(p_min,p_max,sample_number):\n",
        "  number_of_gen = p_min.shape[0]\n",
        "  p_supply = np.zeros([sample_number,number_of_gen])\n",
        "  for i in range(0,number_of_gen):\n",
        "    p_gen = np.random.uniform(p_min[i],p_max[i],sample_number)\n",
        "    p_supply[:,i] = p_gen\n",
        "  vm_gen = np.random.uniform(0.9,1.1,[sample_number,number_of_gen-1])\n",
        "  return p_supply,vm_gen"
      ],
      "execution_count": 19,
      "outputs": []
    },
    {
      "cell_type": "code",
      "metadata": {
        "id": "SW1-TVRyHRHR"
      },
      "source": [
        "p_demand,q_demand = rdm_load_pq_20per(case30_pload,case30_qload,15000*50)\n",
        "p_supply,vm_gen = rdm_gen_pv(p_min,p_max,15000*50)"
      ],
      "execution_count": 20,
      "outputs": []
    },
    {
      "cell_type": "code",
      "metadata": {
        "colab": {
          "base_uri": "https://localhost:8080/"
        },
        "id": "zWmTZLLW2URZ",
        "outputId": "88fd73d2-574c-4ecf-c9b6-149b7b7383d2"
      },
      "source": [
        "p_supply.shape"
      ],
      "execution_count": 21,
      "outputs": [
        {
          "output_type": "execute_result",
          "data": {
            "text/plain": [
              "(750000, 6)"
            ]
          },
          "metadata": {},
          "execution_count": 21
        }
      ]
    },
    {
      "cell_type": "code",
      "metadata": {
        "id": "zmeHupYnOjZ4"
      },
      "source": [
        "subsetter = np.where((p_supply.sum(axis=1) > p_demand.sum(axis=1)))\n",
        "p_supply_ok = p_supply[subsetter]\n",
        "p_demand_ok = p_demand[subsetter]\n",
        "q_demand_ok = q_demand[subsetter]\n",
        "vm_gen_ok = vm_gen[subsetter,:] "
      ],
      "execution_count": 22,
      "outputs": []
    },
    {
      "cell_type": "code",
      "metadata": {
        "id": "Z4nu0U9_2dC8"
      },
      "source": [
        "vm_gen_ok = vm_gen_ok.reshape([-1,5])"
      ],
      "execution_count": 23,
      "outputs": []
    },
    {
      "cell_type": "code",
      "metadata": {
        "id": "CPBdYKYnP3Bw"
      },
      "source": [
        "pd.DataFrame(p_demand_ok).to_csv('p_demand2.csv')\n",
        "pd.DataFrame(q_demand_ok).to_csv('q_demand2.csv')\n",
        "pd.DataFrame(p_supply_ok).to_csv('p_supply2.csv')\n",
        "pd.DataFrame(vm_gen_ok).to_csv('vm_gen2.csv')"
      ],
      "execution_count": 24,
      "outputs": []
    }
  ]
}